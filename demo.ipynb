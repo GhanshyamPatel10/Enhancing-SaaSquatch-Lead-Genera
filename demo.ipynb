# Sample lead data
lead = {
    "name": "Sarah Johnson",
    "title": "Procurement Director",
    "company": "TechInnovate Inc",
    "industry": "SaaS Infrastructure",
    "revenue": "$45M",
    "news": "recently expanded to 3 new markets"
}

# Generate outreach
response = requests.post("http://localhost:5000/generate-outreach", json=lead)
print(response.json()["email"])
